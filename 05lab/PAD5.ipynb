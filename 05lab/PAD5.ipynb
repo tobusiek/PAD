{
  "cells": [
    {
      "cell_type": "code",
      "execution_count": 3,
      "metadata": {
        "id": "rOC6kGfl4EM4"
      },
      "outputs": [],
      "source": [
        "import pandas as pd"
      ]
    },
    {
      "cell_type": "markdown",
      "metadata": {
        "id": "1_Cx_g8i78ea"
      },
      "source": [
        "#Zad 1"
      ]
    },
    {
      "cell_type": "code",
      "execution_count": 4,
      "metadata": {
        "colab": {
          "base_uri": "https://localhost:8080/",
          "height": 444
        },
        "id": "01l7lMAj6iZK",
        "outputId": "6bc9927b-256c-4003-bdbf-6b55eaf2eb42"
      },
      "outputs": [
        {
          "data": {
            "text/html": [
              "<div>\n",
              "<style scoped>\n",
              "    .dataframe tbody tr th:only-of-type {\n",
              "        vertical-align: middle;\n",
              "    }\n",
              "\n",
              "    .dataframe tbody tr th {\n",
              "        vertical-align: top;\n",
              "    }\n",
              "\n",
              "    .dataframe thead th {\n",
              "        text-align: right;\n",
              "    }\n",
              "</style>\n",
              "<table border=\"1\" class=\"dataframe\">\n",
              "  <thead>\n",
              "    <tr style=\"text-align: right;\">\n",
              "      <th></th>\n",
              "      <th>order_date</th>\n",
              "      <th>pages_visited</th>\n",
              "      <th>order_id</th>\n",
              "      <th>customer_id</th>\n",
              "      <th>tshirt_category</th>\n",
              "      <th>tshirt_price</th>\n",
              "      <th>tshirt_quantity</th>\n",
              "    </tr>\n",
              "  </thead>\n",
              "  <tbody>\n",
              "    <tr>\n",
              "      <th>0</th>\n",
              "      <td>2016/09/04</td>\n",
              "      <td>9</td>\n",
              "      <td>HTS-038040-0002</td>\n",
              "      <td>038040</td>\n",
              "      <td>White T-Shirt M</td>\n",
              "      <td>20.0</td>\n",
              "      <td>1</td>\n",
              "    </tr>\n",
              "    <tr>\n",
              "      <th>1</th>\n",
              "      <td>2014/11/14</td>\n",
              "      <td>11</td>\n",
              "      <td>HTS-801797-0001</td>\n",
              "      <td>801797</td>\n",
              "      <td>White T-Shirt M</td>\n",
              "      <td>20.0</td>\n",
              "      <td>1</td>\n",
              "    </tr>\n",
              "    <tr>\n",
              "      <th>2</th>\n",
              "      <td>2017/02/26</td>\n",
              "      <td>10</td>\n",
              "      <td>HTS-vft1eu-0003</td>\n",
              "      <td>vft1eu</td>\n",
              "      <td>White T-Shirt F</td>\n",
              "      <td>18.0</td>\n",
              "      <td>3</td>\n",
              "    </tr>\n",
              "    <tr>\n",
              "      <th>3</th>\n",
              "      <td>2013/12/01</td>\n",
              "      <td>10</td>\n",
              "      <td>HTS-914324-0001</td>\n",
              "      <td>914324</td>\n",
              "      <td>Wh Tshirt F</td>\n",
              "      <td>18.0</td>\n",
              "      <td>1</td>\n",
              "    </tr>\n",
              "    <tr>\n",
              "      <th>4</th>\n",
              "      <td>2015/10/22</td>\n",
              "      <td>12</td>\n",
              "      <td>HTS-88ua9r-0001</td>\n",
              "      <td>88ua9r</td>\n",
              "      <td>White T-Shirt M</td>\n",
              "      <td>20.0</td>\n",
              "      <td>1</td>\n",
              "    </tr>\n",
              "  </tbody>\n",
              "</table>\n",
              "</div>"
            ],
            "text/plain": [
              "   order_date  pages_visited         order_id customer_id  tshirt_category  \\\n",
              "0  2016/09/04              9  HTS-038040-0002      038040  White T-Shirt M   \n",
              "1  2014/11/14             11  HTS-801797-0001      801797  White T-Shirt M   \n",
              "2  2017/02/26             10  HTS-vft1eu-0003      vft1eu  White T-Shirt F   \n",
              "3  2013/12/01             10  HTS-914324-0001      914324      Wh Tshirt F   \n",
              "4  2015/10/22             12  HTS-88ua9r-0001      88ua9r  White T-Shirt M   \n",
              "\n",
              "   tshirt_price  tshirt_quantity  \n",
              "0          20.0                1  \n",
              "1          20.0                1  \n",
              "2          18.0                3  \n",
              "3          18.0                1  \n",
              "4          20.0                1  "
            ]
          },
          "execution_count": 4,
          "metadata": {},
          "output_type": "execute_result"
        }
      ],
      "source": [
        "ordersdf = pd.read_csv('orders.csv')\n",
        "ordersdf.head()"
      ]
    },
    {
      "cell_type": "code",
      "execution_count": 5,
      "metadata": {
        "colab": {
          "base_uri": "https://localhost:8080/",
          "height": 300
        },
        "id": "fjVhyJkc7Ip5",
        "outputId": "0c86e78c-3e23-4194-8c16-73c7fb02170b"
      },
      "outputs": [
        {
          "data": {
            "text/html": [
              "<div>\n",
              "<style scoped>\n",
              "    .dataframe tbody tr th:only-of-type {\n",
              "        vertical-align: middle;\n",
              "    }\n",
              "\n",
              "    .dataframe tbody tr th {\n",
              "        vertical-align: top;\n",
              "    }\n",
              "\n",
              "    .dataframe thead th {\n",
              "        text-align: right;\n",
              "    }\n",
              "</style>\n",
              "<table border=\"1\" class=\"dataframe\">\n",
              "  <thead>\n",
              "    <tr style=\"text-align: right;\">\n",
              "      <th></th>\n",
              "      <th>pages_visited</th>\n",
              "      <th>tshirt_price</th>\n",
              "      <th>tshirt_quantity</th>\n",
              "    </tr>\n",
              "  </thead>\n",
              "  <tbody>\n",
              "    <tr>\n",
              "      <th>count</th>\n",
              "      <td>26552.000000</td>\n",
              "      <td>26552.000000</td>\n",
              "      <td>26552.000000</td>\n",
              "    </tr>\n",
              "    <tr>\n",
              "      <th>mean</th>\n",
              "      <td>10.838016</td>\n",
              "      <td>20.223768</td>\n",
              "      <td>2.693394</td>\n",
              "    </tr>\n",
              "    <tr>\n",
              "      <th>std</th>\n",
              "      <td>3.589299</td>\n",
              "      <td>2.220651</td>\n",
              "      <td>3.456182</td>\n",
              "    </tr>\n",
              "    <tr>\n",
              "      <th>min</th>\n",
              "      <td>2.000000</td>\n",
              "      <td>17.500000</td>\n",
              "      <td>1.000000</td>\n",
              "    </tr>\n",
              "    <tr>\n",
              "      <th>25%</th>\n",
              "      <td>8.000000</td>\n",
              "      <td>18.000000</td>\n",
              "      <td>1.000000</td>\n",
              "    </tr>\n",
              "    <tr>\n",
              "      <th>50%</th>\n",
              "      <td>11.000000</td>\n",
              "      <td>20.000000</td>\n",
              "      <td>2.000000</td>\n",
              "    </tr>\n",
              "    <tr>\n",
              "      <th>75%</th>\n",
              "      <td>13.000000</td>\n",
              "      <td>23.000000</td>\n",
              "      <td>3.000000</td>\n",
              "    </tr>\n",
              "    <tr>\n",
              "      <th>max</th>\n",
              "      <td>28.000000</td>\n",
              "      <td>24.000000</td>\n",
              "      <td>29.000000</td>\n",
              "    </tr>\n",
              "  </tbody>\n",
              "</table>\n",
              "</div>"
            ],
            "text/plain": [
              "       pages_visited  tshirt_price  tshirt_quantity\n",
              "count   26552.000000  26552.000000     26552.000000\n",
              "mean       10.838016     20.223768         2.693394\n",
              "std         3.589299      2.220651         3.456182\n",
              "min         2.000000     17.500000         1.000000\n",
              "25%         8.000000     18.000000         1.000000\n",
              "50%        11.000000     20.000000         2.000000\n",
              "75%        13.000000     23.000000         3.000000\n",
              "max        28.000000     24.000000        29.000000"
            ]
          },
          "execution_count": 5,
          "metadata": {},
          "output_type": "execute_result"
        }
      ],
      "source": [
        "ordersdf.describe()"
      ]
    },
    {
      "cell_type": "code",
      "execution_count": 6,
      "metadata": {
        "colab": {
          "base_uri": "https://localhost:8080/"
        },
        "id": "0lk3UgUF7PF6",
        "outputId": "60fce75b-1e2a-4508-a683-4b0f1db77d72"
      },
      "outputs": [
        {
          "name": "stdout",
          "output_type": "stream",
          "text": [
            "<class 'pandas.core.frame.DataFrame'>\n",
            "RangeIndex: 26552 entries, 0 to 26551\n",
            "Data columns (total 7 columns):\n",
            " #   Column           Non-Null Count  Dtype  \n",
            "---  ------           --------------  -----  \n",
            " 0   order_date       26552 non-null  object \n",
            " 1   pages_visited    26552 non-null  int64  \n",
            " 2   order_id         26552 non-null  object \n",
            " 3   customer_id      26552 non-null  object \n",
            " 4   tshirt_category  26552 non-null  object \n",
            " 5   tshirt_price     26552 non-null  float64\n",
            " 6   tshirt_quantity  26552 non-null  int64  \n",
            "dtypes: float64(1), int64(2), object(4)\n",
            "memory usage: 1.4+ MB\n"
          ]
        }
      ],
      "source": [
        "ordersdf.info()"
      ]
    },
    {
      "cell_type": "markdown",
      "metadata": {
        "id": "CoMRVVFF8AR0"
      },
      "source": [
        "a)"
      ]
    },
    {
      "cell_type": "code",
      "execution_count": 7,
      "metadata": {
        "colab": {
          "base_uri": "https://localhost:8080/"
        },
        "id": "8S1UshUB7REJ",
        "outputId": "7dd4ce20-1950-417e-ba44-b538480349fe"
      },
      "outputs": [
        {
          "data": {
            "text/plain": [
              "0        2016-09-04\n",
              "1        2014-11-14\n",
              "2        2017-02-26\n",
              "3        2013-12-01\n",
              "4        2015-10-22\n",
              "            ...    \n",
              "26547    2016-11-19\n",
              "26548    2016-08-02\n",
              "26549    2017-03-09\n",
              "26550    2016-10-04\n",
              "26551    2016-12-16\n",
              "Name: order_date, Length: 26552, dtype: object"
            ]
          },
          "execution_count": 7,
          "metadata": {},
          "output_type": "execute_result"
        }
      ],
      "source": [
        "ordersdf['order_date'] = pd.to_datetime(ordersdf['order_date']).dt.date\n",
        "ordersdf['order_date']"
      ]
    },
    {
      "cell_type": "markdown",
      "metadata": {
        "id": "PO8tLXsW8U3R"
      },
      "source": [
        "b)"
      ]
    },
    {
      "cell_type": "code",
      "execution_count": 8,
      "metadata": {
        "colab": {
          "base_uri": "https://localhost:8080/"
        },
        "id": "PLaYE57Y7vtq",
        "outputId": "8c782b09-41e6-4a83-de54-9872598ac005"
      },
      "outputs": [
        {
          "data": {
            "text/plain": [
              "Hoodie             6229\n",
              "White T-Shirt M    5547\n",
              "Black T-Shirt M    4454\n",
              "White T-Shirt F    3513\n",
              "Black T-Shirt F    3248\n",
              "Tennis Shirt       2153\n",
              "Wh Tshirt M         462\n",
              "Bl Tshirt M         377\n",
              "Wh Tshirt F         312\n",
              "Bl Tshirt F         257\n",
              "Name: tshirt_category, dtype: int64"
            ]
          },
          "execution_count": 8,
          "metadata": {},
          "output_type": "execute_result"
        }
      ],
      "source": [
        "ordersdf['tshirt_category'].value_counts()"
      ]
    },
    {
      "cell_type": "markdown",
      "metadata": {
        "id": "qwjzAlgFDdKo"
      },
      "source": [
        "c)"
      ]
    },
    {
      "cell_type": "code",
      "execution_count": 9,
      "metadata": {
        "id": "kt6xu0K_9kf0"
      },
      "outputs": [],
      "source": [
        "def normalize_tshirts(text):\n",
        "  # text = text.split()\n",
        "  \n",
        "  # if 'Wh' in text:\n",
        "  #   text[0] = 'White'\n",
        "  \n",
        "  # if 'Bl' in text:\n",
        "  #   text[0] = 'Black'\n",
        "  \n",
        "  # if 'T-shirt' in text:\n",
        "  #   text[1] = 'T-Shirt'\n",
        "\n",
        "  # return ' '.join(text)\n",
        "  text = text.replace('Wh ', 'White ')\n",
        "  text = text.replace('Bl ', 'Black ')\n",
        "  text = text.replace('Tshirt', 'T-Shirt')\n",
        "  text = text.replace('Tennis Shirt', 'T-Shirt')\n",
        "  return text"
      ]
    },
    {
      "cell_type": "code",
      "execution_count": 10,
      "metadata": {
        "colab": {
          "base_uri": "https://localhost:8080/"
        },
        "id": "gbFpSH8q8gXq",
        "outputId": "3b50cbec-8532-4242-b700-dd6f0ffe1431"
      },
      "outputs": [
        {
          "data": {
            "text/plain": [
              "Hoodie             6229\n",
              "White T-Shirt M    6009\n",
              "Black T-Shirt M    4831\n",
              "White T-Shirt F    3825\n",
              "Black T-Shirt F    3505\n",
              "T-Shirt            2153\n",
              "Name: tshirt_category, dtype: int64"
            ]
          },
          "execution_count": 10,
          "metadata": {},
          "output_type": "execute_result"
        }
      ],
      "source": [
        "ordersdf['tshirt_category'] = ordersdf['tshirt_category'].apply(normalize_tshirts)\n",
        "ordersdf['tshirt_category'].value_counts()"
      ]
    },
    {
      "cell_type": "code",
      "execution_count": 11,
      "metadata": {
        "colab": {
          "base_uri": "https://localhost:8080/"
        },
        "id": "3jcYFWKx_366",
        "outputId": "a7dc2af3-9127-4f4b-8bf5-ca6c727d8fab"
      },
      "outputs": [
        {
          "data": {
            "text/plain": [
              "array(['White T-Shirt M', 'White T-Shirt F', 'Black T-Shirt F', 'Hoodie',\n",
              "       'Black T-Shirt M', 'T-Shirt'], dtype=object)"
            ]
          },
          "execution_count": 11,
          "metadata": {},
          "output_type": "execute_result"
        }
      ],
      "source": [
        "ordersdf['tshirt_category'].unique()"
      ]
    },
    {
      "cell_type": "markdown",
      "metadata": {
        "id": "NP0mmrkFDfho"
      },
      "source": [
        "d)"
      ]
    },
    {
      "cell_type": "code",
      "execution_count": 12,
      "metadata": {
        "id": "RmQxACrkD89h"
      },
      "outputs": [],
      "source": [
        "def tshirt_type(text):\n",
        "  return 'T-Shirt' if text != 'Hoodie' else 'Hoodie'"
      ]
    },
    {
      "cell_type": "code",
      "execution_count": 13,
      "metadata": {
        "colab": {
          "base_uri": "https://localhost:8080/"
        },
        "id": "f9THj_b-Bkjp",
        "outputId": "2ee1526b-ef22-406d-d2d1-213b6379684a"
      },
      "outputs": [
        {
          "data": {
            "text/plain": [
              "T-Shirt    20323\n",
              "Hoodie      6229\n",
              "Name: tshirt_type, dtype: int64"
            ]
          },
          "execution_count": 13,
          "metadata": {},
          "output_type": "execute_result"
        }
      ],
      "source": [
        "ordersdf['tshirt_type'] = ordersdf['tshirt_category'].apply(tshirt_type)\n",
        "ordersdf['tshirt_type'].value_counts()"
      ]
    },
    {
      "cell_type": "code",
      "execution_count": 14,
      "metadata": {
        "id": "X2nnh-yvFy2R"
      },
      "outputs": [],
      "source": [
        "def tshirt_color(text):\n",
        "  text = text.split()\n",
        "\n",
        "  if 'White' in text:\n",
        "    return 'White'\n",
        "  elif 'Black' in text:\n",
        "    return 'Black'\n",
        "  else:\n",
        "    return pd.NA"
      ]
    },
    {
      "cell_type": "code",
      "execution_count": 15,
      "metadata": {
        "colab": {
          "base_uri": "https://localhost:8080/"
        },
        "id": "BHG0OvmiFHG5",
        "outputId": "18422260-a5c9-49d5-d579-2f9455e23558"
      },
      "outputs": [
        {
          "data": {
            "text/plain": [
              "White    9834\n",
              "Black    8336\n",
              "Name: tshirt_color, dtype: int64"
            ]
          },
          "execution_count": 15,
          "metadata": {},
          "output_type": "execute_result"
        }
      ],
      "source": [
        "ordersdf['tshirt_color'] = ordersdf['tshirt_category'].apply(tshirt_color)\n",
        "ordersdf['tshirt_color'].value_counts()"
      ]
    },
    {
      "cell_type": "code",
      "execution_count": 16,
      "metadata": {
        "id": "4cAbQ3i6Geyz"
      },
      "outputs": [],
      "source": [
        "def tshirt_size(text):\n",
        "  text = text.split()\n",
        "\n",
        "  if 'F' in text:\n",
        "    return 'F'\n",
        "  elif 'M' in text:\n",
        "    return 'M'\n",
        "  else:\n",
        "    return pd.NA"
      ]
    },
    {
      "cell_type": "code",
      "execution_count": 17,
      "metadata": {
        "colab": {
          "base_uri": "https://localhost:8080/"
        },
        "id": "villCmN7GQGI",
        "outputId": "00a5e674-e609-4e33-9e9c-49e8290b4cb9"
      },
      "outputs": [
        {
          "data": {
            "text/plain": [
              "M    10840\n",
              "F     7330\n",
              "Name: tshirt_size, dtype: int64"
            ]
          },
          "execution_count": 17,
          "metadata": {},
          "output_type": "execute_result"
        }
      ],
      "source": [
        "ordersdf['tshirt_size'] = ordersdf['tshirt_category'].apply(tshirt_size)\n",
        "ordersdf['tshirt_size'].value_counts()"
      ]
    },
    {
      "cell_type": "code",
      "execution_count": 18,
      "metadata": {
        "id": "jeaAiwCdLHZ5"
      },
      "outputs": [],
      "source": [
        "ordersdf.drop(columns='tshirt_category', inplace=True)"
      ]
    },
    {
      "cell_type": "markdown",
      "metadata": {
        "id": "ViiSXUkzHdKZ"
      },
      "source": [
        "e)"
      ]
    },
    {
      "cell_type": "code",
      "execution_count": 19,
      "metadata": {
        "colab": {
          "base_uri": "https://localhost:8080/",
          "height": 869
        },
        "id": "FTU9JFv3HFQR",
        "outputId": "54a2a845-c1ca-49fe-96cc-8d448c5eac8a"
      },
      "outputs": [
        {
          "name": "stderr",
          "output_type": "stream",
          "text": [
            "/home/s26549/anaconda3/lib/python3.9/site-packages/pandas/core/ops/array_ops.py:73: FutureWarning: Comparison of Timestamp with datetime.date is deprecated in order to match the standard library behavior.  In a future version these will be considered non-comparable.Use 'ts == pd.Timestamp(date)' or 'ts.date() == date' instead.\n",
            "  result = libops.scalar_compare(x.ravel(), y, op)\n"
          ]
        },
        {
          "data": {
            "text/html": [
              "<div>\n",
              "<style scoped>\n",
              "    .dataframe tbody tr th:only-of-type {\n",
              "        vertical-align: middle;\n",
              "    }\n",
              "\n",
              "    .dataframe tbody tr th {\n",
              "        vertical-align: top;\n",
              "    }\n",
              "\n",
              "    .dataframe thead th {\n",
              "        text-align: right;\n",
              "    }\n",
              "</style>\n",
              "<table border=\"1\" class=\"dataframe\">\n",
              "  <thead>\n",
              "    <tr style=\"text-align: right;\">\n",
              "      <th></th>\n",
              "      <th>order_date</th>\n",
              "      <th>pages_visited</th>\n",
              "      <th>order_id</th>\n",
              "      <th>customer_id</th>\n",
              "      <th>tshirt_price</th>\n",
              "      <th>tshirt_quantity</th>\n",
              "      <th>tshirt_type</th>\n",
              "      <th>tshirt_color</th>\n",
              "      <th>tshirt_size</th>\n",
              "    </tr>\n",
              "  </thead>\n",
              "  <tbody>\n",
              "    <tr>\n",
              "      <th>0</th>\n",
              "      <td>2016-09-04</td>\n",
              "      <td>9</td>\n",
              "      <td>HTS-038040-0002</td>\n",
              "      <td>038040</td>\n",
              "      <td>20.0</td>\n",
              "      <td>1</td>\n",
              "      <td>T-Shirt</td>\n",
              "      <td>White</td>\n",
              "      <td>M</td>\n",
              "    </tr>\n",
              "    <tr>\n",
              "      <th>2</th>\n",
              "      <td>2017-02-26</td>\n",
              "      <td>10</td>\n",
              "      <td>HTS-vft1eu-0003</td>\n",
              "      <td>vft1eu</td>\n",
              "      <td>18.0</td>\n",
              "      <td>3</td>\n",
              "      <td>T-Shirt</td>\n",
              "      <td>White</td>\n",
              "      <td>F</td>\n",
              "    </tr>\n",
              "    <tr>\n",
              "      <th>4</th>\n",
              "      <td>2015-10-22</td>\n",
              "      <td>12</td>\n",
              "      <td>HTS-88ua9r-0001</td>\n",
              "      <td>88ua9r</td>\n",
              "      <td>20.0</td>\n",
              "      <td>1</td>\n",
              "      <td>T-Shirt</td>\n",
              "      <td>White</td>\n",
              "      <td>M</td>\n",
              "    </tr>\n",
              "    <tr>\n",
              "      <th>5</th>\n",
              "      <td>2016-01-15</td>\n",
              "      <td>9</td>\n",
              "      <td>HTS-061311-0003</td>\n",
              "      <td>061311</td>\n",
              "      <td>17.5</td>\n",
              "      <td>4</td>\n",
              "      <td>T-Shirt</td>\n",
              "      <td>Black</td>\n",
              "      <td>F</td>\n",
              "    </tr>\n",
              "    <tr>\n",
              "      <th>12</th>\n",
              "      <td>2015-11-24</td>\n",
              "      <td>15</td>\n",
              "      <td>HTS-je57lh-0001</td>\n",
              "      <td>je57lh</td>\n",
              "      <td>23.0</td>\n",
              "      <td>3</td>\n",
              "      <td>Hoodie</td>\n",
              "      <td>&lt;NA&gt;</td>\n",
              "      <td>&lt;NA&gt;</td>\n",
              "    </tr>\n",
              "    <tr>\n",
              "      <th>...</th>\n",
              "      <td>...</td>\n",
              "      <td>...</td>\n",
              "      <td>...</td>\n",
              "      <td>...</td>\n",
              "      <td>...</td>\n",
              "      <td>...</td>\n",
              "      <td>...</td>\n",
              "      <td>...</td>\n",
              "      <td>...</td>\n",
              "    </tr>\n",
              "    <tr>\n",
              "      <th>26547</th>\n",
              "      <td>2016-11-19</td>\n",
              "      <td>13</td>\n",
              "      <td>HTS-n641x4-0001</td>\n",
              "      <td>n641x4</td>\n",
              "      <td>20.0</td>\n",
              "      <td>1</td>\n",
              "      <td>T-Shirt</td>\n",
              "      <td>White</td>\n",
              "      <td>M</td>\n",
              "    </tr>\n",
              "    <tr>\n",
              "      <th>26548</th>\n",
              "      <td>2016-08-02</td>\n",
              "      <td>4</td>\n",
              "      <td>HTS-q0nm12-0001</td>\n",
              "      <td>q0nm12</td>\n",
              "      <td>20.0</td>\n",
              "      <td>1</td>\n",
              "      <td>T-Shirt</td>\n",
              "      <td>White</td>\n",
              "      <td>M</td>\n",
              "    </tr>\n",
              "    <tr>\n",
              "      <th>26549</th>\n",
              "      <td>2017-03-09</td>\n",
              "      <td>6</td>\n",
              "      <td>HTS-sby0iz-0001</td>\n",
              "      <td>sby0iz</td>\n",
              "      <td>20.0</td>\n",
              "      <td>1</td>\n",
              "      <td>T-Shirt</td>\n",
              "      <td>White</td>\n",
              "      <td>M</td>\n",
              "    </tr>\n",
              "    <tr>\n",
              "      <th>26550</th>\n",
              "      <td>2016-10-04</td>\n",
              "      <td>11</td>\n",
              "      <td>HTS-uz70x4-0001</td>\n",
              "      <td>uz70x4</td>\n",
              "      <td>23.0</td>\n",
              "      <td>5</td>\n",
              "      <td>Hoodie</td>\n",
              "      <td>&lt;NA&gt;</td>\n",
              "      <td>&lt;NA&gt;</td>\n",
              "    </tr>\n",
              "    <tr>\n",
              "      <th>26551</th>\n",
              "      <td>2016-12-16</td>\n",
              "      <td>9</td>\n",
              "      <td>HTS-xnbc22-0001</td>\n",
              "      <td>xnbc22</td>\n",
              "      <td>19.0</td>\n",
              "      <td>3</td>\n",
              "      <td>T-Shirt</td>\n",
              "      <td>Black</td>\n",
              "      <td>M</td>\n",
              "    </tr>\n",
              "  </tbody>\n",
              "</table>\n",
              "<p>19660 rows × 9 columns</p>\n",
              "</div>"
            ],
            "text/plain": [
              "       order_date  pages_visited         order_id customer_id  tshirt_price  \\\n",
              "0      2016-09-04              9  HTS-038040-0002      038040          20.0   \n",
              "2      2017-02-26             10  HTS-vft1eu-0003      vft1eu          18.0   \n",
              "4      2015-10-22             12  HTS-88ua9r-0001      88ua9r          20.0   \n",
              "5      2016-01-15              9  HTS-061311-0003      061311          17.5   \n",
              "12     2015-11-24             15  HTS-je57lh-0001      je57lh          23.0   \n",
              "...           ...            ...              ...         ...           ...   \n",
              "26547  2016-11-19             13  HTS-n641x4-0001      n641x4          20.0   \n",
              "26548  2016-08-02              4  HTS-q0nm12-0001      q0nm12          20.0   \n",
              "26549  2017-03-09              6  HTS-sby0iz-0001      sby0iz          20.0   \n",
              "26550  2016-10-04             11  HTS-uz70x4-0001      uz70x4          23.0   \n",
              "26551  2016-12-16              9  HTS-xnbc22-0001      xnbc22          19.0   \n",
              "\n",
              "       tshirt_quantity tshirt_type tshirt_color tshirt_size  \n",
              "0                    1     T-Shirt        White           M  \n",
              "2                    3     T-Shirt        White           F  \n",
              "4                    1     T-Shirt        White           M  \n",
              "5                    4     T-Shirt        Black           F  \n",
              "12                   3      Hoodie         <NA>        <NA>  \n",
              "...                ...         ...          ...         ...  \n",
              "26547                1     T-Shirt        White           M  \n",
              "26548                1     T-Shirt        White           M  \n",
              "26549                1     T-Shirt        White           M  \n",
              "26550                5      Hoodie         <NA>        <NA>  \n",
              "26551                3     T-Shirt        Black           M  \n",
              "\n",
              "[19660 rows x 9 columns]"
            ]
          },
          "execution_count": 19,
          "metadata": {},
          "output_type": "execute_result"
        }
      ],
      "source": [
        "ordersdf[(ordersdf['order_date'] < pd.to_datetime('2022-08-02')) & (ordersdf['order_date'] > pd.to_datetime('2014-12-31'))]"
      ]
    },
    {
      "cell_type": "markdown",
      "metadata": {
        "id": "6E_GZRZlI0II"
      },
      "source": [
        "#Zad 2"
      ]
    },
    {
      "cell_type": "code",
      "execution_count": 20,
      "metadata": {
        "colab": {
          "base_uri": "https://localhost:8080/",
          "height": 337
        },
        "id": "a9KD9srfH8IA",
        "outputId": "190168a3-6d8a-462b-cbcb-ae6b2e5f1e82"
      },
      "outputs": [
        {
          "data": {
            "text/html": [
              "<div>\n",
              "<style scoped>\n",
              "    .dataframe tbody tr th:only-of-type {\n",
              "        vertical-align: middle;\n",
              "    }\n",
              "\n",
              "    .dataframe tbody tr th {\n",
              "        vertical-align: top;\n",
              "    }\n",
              "\n",
              "    .dataframe thead th {\n",
              "        text-align: right;\n",
              "    }\n",
              "</style>\n",
              "<table border=\"1\" class=\"dataframe\">\n",
              "  <thead>\n",
              "    <tr style=\"text-align: right;\">\n",
              "      <th></th>\n",
              "      <th>customerID</th>\n",
              "      <th>gender</th>\n",
              "      <th>birthdate</th>\n",
              "      <th>user_agent</th>\n",
              "      <th>ip_address</th>\n",
              "      <th>campaign</th>\n",
              "    </tr>\n",
              "  </thead>\n",
              "  <tbody>\n",
              "    <tr>\n",
              "      <th>0</th>\n",
              "      <td>886900</td>\n",
              "      <td>M</td>\n",
              "      <td>1953/10/5</td>\n",
              "      <td>Mozilla/5.0 (Windows NT 10.0; Win64; x64) Appl...</td>\n",
              "      <td>69.8.136.110</td>\n",
              "      <td>False</td>\n",
              "    </tr>\n",
              "    <tr>\n",
              "      <th>1</th>\n",
              "      <td>038040</td>\n",
              "      <td>F</td>\n",
              "      <td>1946/12/21</td>\n",
              "      <td>Mozilla/5.0 (Windows NT 10.0; WOW64) AppleWebK...</td>\n",
              "      <td>67.74.254.174</td>\n",
              "      <td>False</td>\n",
              "    </tr>\n",
              "    <tr>\n",
              "      <th>2</th>\n",
              "      <td>698696</td>\n",
              "      <td>F</td>\n",
              "      <td>1983/12/1</td>\n",
              "      <td>Mozilla/5.0 (Windows NT 6.3; WOW64) AppleWebKi...</td>\n",
              "      <td>95.135.70.206</td>\n",
              "      <td>False</td>\n",
              "    </tr>\n",
              "    <tr>\n",
              "      <th>3</th>\n",
              "      <td>sn9keh</td>\n",
              "      <td>M</td>\n",
              "      <td>1990/9/23</td>\n",
              "      <td>Mozilla/5.0 (Macintosh; Intel Mac OS X 10_11_6...</td>\n",
              "      <td>129.50.205.26</td>\n",
              "      <td>False</td>\n",
              "    </tr>\n",
              "    <tr>\n",
              "      <th>4</th>\n",
              "      <td>496907</td>\n",
              "      <td>M</td>\n",
              "      <td>1869/6/8</td>\n",
              "      <td>Mozilla/5.0 (Windows NT 6.1; Win64; x64) Apple...</td>\n",
              "      <td>81.98.234.29</td>\n",
              "      <td>False</td>\n",
              "    </tr>\n",
              "  </tbody>\n",
              "</table>\n",
              "</div>"
            ],
            "text/plain": [
              "  customerID gender   birthdate  \\\n",
              "0     886900      M   1953/10/5   \n",
              "1     038040      F  1946/12/21   \n",
              "2     698696      F   1983/12/1   \n",
              "3     sn9keh      M   1990/9/23   \n",
              "4     496907      M    1869/6/8   \n",
              "\n",
              "                                          user_agent     ip_address  campaign  \n",
              "0  Mozilla/5.0 (Windows NT 10.0; Win64; x64) Appl...   69.8.136.110     False  \n",
              "1  Mozilla/5.0 (Windows NT 10.0; WOW64) AppleWebK...  67.74.254.174     False  \n",
              "2  Mozilla/5.0 (Windows NT 6.3; WOW64) AppleWebKi...  95.135.70.206     False  \n",
              "3  Mozilla/5.0 (Macintosh; Intel Mac OS X 10_11_6...  129.50.205.26     False  \n",
              "4  Mozilla/5.0 (Windows NT 6.1; Win64; x64) Apple...   81.98.234.29     False  "
            ]
          },
          "execution_count": 20,
          "metadata": {},
          "output_type": "execute_result"
        }
      ],
      "source": [
        "customersdf = pd.read_csv('customers.csv')\n",
        "customersdf.head()"
      ]
    },
    {
      "cell_type": "markdown",
      "metadata": {
        "id": "HCncn9V2I_bg"
      },
      "source": [
        "a)"
      ]
    },
    {
      "cell_type": "code",
      "execution_count": 21,
      "metadata": {
        "colab": {
          "base_uri": "https://localhost:8080/"
        },
        "id": "u_s5nDpmIzIZ",
        "outputId": "c9769035-3de0-432d-886a-f0e95af4633c"
      },
      "outputs": [
        {
          "data": {
            "text/plain": [
              "Index(['customerID', 'gender', 'birthdate', 'user_agent', 'ip_address',\n",
              "       'campaign'],\n",
              "      dtype='object')"
            ]
          },
          "execution_count": 21,
          "metadata": {},
          "output_type": "execute_result"
        }
      ],
      "source": [
        "customersdf.columns"
      ]
    },
    {
      "cell_type": "markdown",
      "metadata": {
        "id": "sOd0okKZJkTA"
      },
      "source": [
        "b)"
      ]
    },
    {
      "cell_type": "code",
      "execution_count": 22,
      "metadata": {
        "colab": {
          "base_uri": "https://localhost:8080/"
        },
        "id": "KXV_lZE7JCPp",
        "outputId": "1c06a758-a60f-4b5b-9858-8491105799ef"
      },
      "outputs": [
        {
          "data": {
            "text/plain": [
              "False"
            ]
          },
          "execution_count": 22,
          "metadata": {},
          "output_type": "execute_result"
        }
      ],
      "source": [
        "ordersdf.shape[0] == customersdf.shape[0]"
      ]
    },
    {
      "cell_type": "markdown",
      "metadata": {
        "id": "3ivxVD2DJljw"
      },
      "source": [
        "c)"
      ]
    },
    {
      "cell_type": "code",
      "execution_count": 23,
      "metadata": {
        "id": "OAnhd4oAJN-J"
      },
      "outputs": [],
      "source": [
        "customersdf.rename(columns={'customerID':'customer_id'}, inplace=True)"
      ]
    },
    {
      "cell_type": "markdown",
      "metadata": {
        "id": "64tpWu5HJz6g"
      },
      "source": [
        "d)"
      ]
    },
    {
      "cell_type": "code",
      "execution_count": 24,
      "metadata": {
        "colab": {
          "base_uri": "https://localhost:8080/",
          "height": 956
        },
        "id": "ur9HXHI1JzIo",
        "outputId": "9f33ee48-b88e-4189-891b-4f0b5598e948"
      },
      "outputs": [
        {
          "data": {
            "text/html": [
              "<div>\n",
              "<style scoped>\n",
              "    .dataframe tbody tr th:only-of-type {\n",
              "        vertical-align: middle;\n",
              "    }\n",
              "\n",
              "    .dataframe tbody tr th {\n",
              "        vertical-align: top;\n",
              "    }\n",
              "\n",
              "    .dataframe thead th {\n",
              "        text-align: right;\n",
              "    }\n",
              "</style>\n",
              "<table border=\"1\" class=\"dataframe\">\n",
              "  <thead>\n",
              "    <tr style=\"text-align: right;\">\n",
              "      <th></th>\n",
              "      <th>order_date</th>\n",
              "      <th>pages_visited</th>\n",
              "      <th>order_id</th>\n",
              "      <th>customer_id</th>\n",
              "      <th>tshirt_price</th>\n",
              "      <th>tshirt_quantity</th>\n",
              "      <th>tshirt_type</th>\n",
              "      <th>tshirt_color</th>\n",
              "      <th>tshirt_size</th>\n",
              "      <th>gender</th>\n",
              "      <th>birthdate</th>\n",
              "      <th>user_agent</th>\n",
              "      <th>ip_address</th>\n",
              "      <th>campaign</th>\n",
              "    </tr>\n",
              "  </thead>\n",
              "  <tbody>\n",
              "    <tr>\n",
              "      <th>0</th>\n",
              "      <td>2016-09-04</td>\n",
              "      <td>9</td>\n",
              "      <td>HTS-038040-0002</td>\n",
              "      <td>038040</td>\n",
              "      <td>20.0</td>\n",
              "      <td>1</td>\n",
              "      <td>T-Shirt</td>\n",
              "      <td>White</td>\n",
              "      <td>M</td>\n",
              "      <td>F</td>\n",
              "      <td>1946/12/21</td>\n",
              "      <td>Mozilla/5.0 (Windows NT 10.0; WOW64) AppleWebK...</td>\n",
              "      <td>67.74.254.174</td>\n",
              "      <td>False</td>\n",
              "    </tr>\n",
              "    <tr>\n",
              "      <th>1</th>\n",
              "      <td>2014-11-14</td>\n",
              "      <td>11</td>\n",
              "      <td>HTS-801797-0001</td>\n",
              "      <td>801797</td>\n",
              "      <td>20.0</td>\n",
              "      <td>1</td>\n",
              "      <td>T-Shirt</td>\n",
              "      <td>White</td>\n",
              "      <td>M</td>\n",
              "      <td>M</td>\n",
              "      <td>1956/7/19</td>\n",
              "      <td>Mozilla/5.0 (Windows NT 10.0; Win64; x64) Appl...</td>\n",
              "      <td>137.155.219.158</td>\n",
              "      <td>False</td>\n",
              "    </tr>\n",
              "    <tr>\n",
              "      <th>2</th>\n",
              "      <td>2017-02-26</td>\n",
              "      <td>10</td>\n",
              "      <td>HTS-vft1eu-0003</td>\n",
              "      <td>vft1eu</td>\n",
              "      <td>18.0</td>\n",
              "      <td>3</td>\n",
              "      <td>T-Shirt</td>\n",
              "      <td>White</td>\n",
              "      <td>F</td>\n",
              "      <td>F</td>\n",
              "      <td>1969/6/27</td>\n",
              "      <td>Mozilla/5.0 (Macintosh; Intel Mac OS X 10_12_3...</td>\n",
              "      <td>53.115.6.106</td>\n",
              "      <td>True</td>\n",
              "    </tr>\n",
              "    <tr>\n",
              "      <th>3</th>\n",
              "      <td>2013-12-01</td>\n",
              "      <td>10</td>\n",
              "      <td>HTS-914324-0001</td>\n",
              "      <td>914324</td>\n",
              "      <td>18.0</td>\n",
              "      <td>1</td>\n",
              "      <td>T-Shirt</td>\n",
              "      <td>White</td>\n",
              "      <td>F</td>\n",
              "      <td>F</td>\n",
              "      <td>1959/10/22</td>\n",
              "      <td>Mozilla/5.0 (Windows NT 10.0; WOW64) AppleWebK...</td>\n",
              "      <td>51.99.199.27</td>\n",
              "      <td>False</td>\n",
              "    </tr>\n",
              "    <tr>\n",
              "      <th>4</th>\n",
              "      <td>2015-10-22</td>\n",
              "      <td>12</td>\n",
              "      <td>HTS-88ua9r-0001</td>\n",
              "      <td>88ua9r</td>\n",
              "      <td>20.0</td>\n",
              "      <td>1</td>\n",
              "      <td>T-Shirt</td>\n",
              "      <td>White</td>\n",
              "      <td>M</td>\n",
              "      <td>F</td>\n",
              "      <td>1985/4/14</td>\n",
              "      <td>Mozilla/5.0 (Macintosh; Intel Mac OS X 10_11_6...</td>\n",
              "      <td>169.15.143.204</td>\n",
              "      <td>True</td>\n",
              "    </tr>\n",
              "    <tr>\n",
              "      <th>...</th>\n",
              "      <td>...</td>\n",
              "      <td>...</td>\n",
              "      <td>...</td>\n",
              "      <td>...</td>\n",
              "      <td>...</td>\n",
              "      <td>...</td>\n",
              "      <td>...</td>\n",
              "      <td>...</td>\n",
              "      <td>...</td>\n",
              "      <td>...</td>\n",
              "      <td>...</td>\n",
              "      <td>...</td>\n",
              "      <td>...</td>\n",
              "      <td>...</td>\n",
              "    </tr>\n",
              "    <tr>\n",
              "      <th>26804</th>\n",
              "      <td>2016-11-19</td>\n",
              "      <td>13</td>\n",
              "      <td>HTS-n641x4-0001</td>\n",
              "      <td>n641x4</td>\n",
              "      <td>20.0</td>\n",
              "      <td>1</td>\n",
              "      <td>T-Shirt</td>\n",
              "      <td>White</td>\n",
              "      <td>M</td>\n",
              "      <td>NaN</td>\n",
              "      <td>NaN</td>\n",
              "      <td>NaN</td>\n",
              "      <td>NaN</td>\n",
              "      <td>NaN</td>\n",
              "    </tr>\n",
              "    <tr>\n",
              "      <th>26805</th>\n",
              "      <td>2016-08-02</td>\n",
              "      <td>4</td>\n",
              "      <td>HTS-q0nm12-0001</td>\n",
              "      <td>q0nm12</td>\n",
              "      <td>20.0</td>\n",
              "      <td>1</td>\n",
              "      <td>T-Shirt</td>\n",
              "      <td>White</td>\n",
              "      <td>M</td>\n",
              "      <td>NaN</td>\n",
              "      <td>NaN</td>\n",
              "      <td>NaN</td>\n",
              "      <td>NaN</td>\n",
              "      <td>NaN</td>\n",
              "    </tr>\n",
              "    <tr>\n",
              "      <th>26806</th>\n",
              "      <td>2017-03-09</td>\n",
              "      <td>6</td>\n",
              "      <td>HTS-sby0iz-0001</td>\n",
              "      <td>sby0iz</td>\n",
              "      <td>20.0</td>\n",
              "      <td>1</td>\n",
              "      <td>T-Shirt</td>\n",
              "      <td>White</td>\n",
              "      <td>M</td>\n",
              "      <td>NaN</td>\n",
              "      <td>NaN</td>\n",
              "      <td>NaN</td>\n",
              "      <td>NaN</td>\n",
              "      <td>NaN</td>\n",
              "    </tr>\n",
              "    <tr>\n",
              "      <th>26807</th>\n",
              "      <td>2016-10-04</td>\n",
              "      <td>11</td>\n",
              "      <td>HTS-uz70x4-0001</td>\n",
              "      <td>uz70x4</td>\n",
              "      <td>23.0</td>\n",
              "      <td>5</td>\n",
              "      <td>Hoodie</td>\n",
              "      <td>&lt;NA&gt;</td>\n",
              "      <td>&lt;NA&gt;</td>\n",
              "      <td>NaN</td>\n",
              "      <td>NaN</td>\n",
              "      <td>NaN</td>\n",
              "      <td>NaN</td>\n",
              "      <td>NaN</td>\n",
              "    </tr>\n",
              "    <tr>\n",
              "      <th>26808</th>\n",
              "      <td>2016-12-16</td>\n",
              "      <td>9</td>\n",
              "      <td>HTS-xnbc22-0001</td>\n",
              "      <td>xnbc22</td>\n",
              "      <td>19.0</td>\n",
              "      <td>3</td>\n",
              "      <td>T-Shirt</td>\n",
              "      <td>Black</td>\n",
              "      <td>M</td>\n",
              "      <td>NaN</td>\n",
              "      <td>NaN</td>\n",
              "      <td>NaN</td>\n",
              "      <td>NaN</td>\n",
              "      <td>NaN</td>\n",
              "    </tr>\n",
              "  </tbody>\n",
              "</table>\n",
              "<p>26809 rows × 14 columns</p>\n",
              "</div>"
            ],
            "text/plain": [
              "       order_date  pages_visited         order_id customer_id  tshirt_price  \\\n",
              "0      2016-09-04              9  HTS-038040-0002      038040          20.0   \n",
              "1      2014-11-14             11  HTS-801797-0001      801797          20.0   \n",
              "2      2017-02-26             10  HTS-vft1eu-0003      vft1eu          18.0   \n",
              "3      2013-12-01             10  HTS-914324-0001      914324          18.0   \n",
              "4      2015-10-22             12  HTS-88ua9r-0001      88ua9r          20.0   \n",
              "...           ...            ...              ...         ...           ...   \n",
              "26804  2016-11-19             13  HTS-n641x4-0001      n641x4          20.0   \n",
              "26805  2016-08-02              4  HTS-q0nm12-0001      q0nm12          20.0   \n",
              "26806  2017-03-09              6  HTS-sby0iz-0001      sby0iz          20.0   \n",
              "26807  2016-10-04             11  HTS-uz70x4-0001      uz70x4          23.0   \n",
              "26808  2016-12-16              9  HTS-xnbc22-0001      xnbc22          19.0   \n",
              "\n",
              "       tshirt_quantity tshirt_type tshirt_color tshirt_size gender  \\\n",
              "0                    1     T-Shirt        White           M      F   \n",
              "1                    1     T-Shirt        White           M      M   \n",
              "2                    3     T-Shirt        White           F      F   \n",
              "3                    1     T-Shirt        White           F      F   \n",
              "4                    1     T-Shirt        White           M      F   \n",
              "...                ...         ...          ...         ...    ...   \n",
              "26804                1     T-Shirt        White           M    NaN   \n",
              "26805                1     T-Shirt        White           M    NaN   \n",
              "26806                1     T-Shirt        White           M    NaN   \n",
              "26807                5      Hoodie         <NA>        <NA>    NaN   \n",
              "26808                3     T-Shirt        Black           M    NaN   \n",
              "\n",
              "        birthdate                                         user_agent  \\\n",
              "0      1946/12/21  Mozilla/5.0 (Windows NT 10.0; WOW64) AppleWebK...   \n",
              "1       1956/7/19  Mozilla/5.0 (Windows NT 10.0; Win64; x64) Appl...   \n",
              "2       1969/6/27  Mozilla/5.0 (Macintosh; Intel Mac OS X 10_12_3...   \n",
              "3      1959/10/22  Mozilla/5.0 (Windows NT 10.0; WOW64) AppleWebK...   \n",
              "4       1985/4/14  Mozilla/5.0 (Macintosh; Intel Mac OS X 10_11_6...   \n",
              "...           ...                                                ...   \n",
              "26804         NaN                                                NaN   \n",
              "26805         NaN                                                NaN   \n",
              "26806         NaN                                                NaN   \n",
              "26807         NaN                                                NaN   \n",
              "26808         NaN                                                NaN   \n",
              "\n",
              "            ip_address campaign  \n",
              "0        67.74.254.174    False  \n",
              "1      137.155.219.158    False  \n",
              "2         53.115.6.106     True  \n",
              "3         51.99.199.27    False  \n",
              "4       169.15.143.204     True  \n",
              "...                ...      ...  \n",
              "26804              NaN      NaN  \n",
              "26805              NaN      NaN  \n",
              "26806              NaN      NaN  \n",
              "26807              NaN      NaN  \n",
              "26808              NaN      NaN  \n",
              "\n",
              "[26809 rows x 14 columns]"
            ]
          },
          "execution_count": 24,
          "metadata": {},
          "output_type": "execute_result"
        }
      ],
      "source": [
        "# musimy polaczyc na podstawie wspolnego indeksu,\n",
        "# niektore zamowienia moga nie miec przypisanych klientow\n",
        "# np zamowienie zlozone bez rejestracji konta/logowania\n",
        "df = pd.merge(left=ordersdf, right=customersdf, how='left', on='customer_id')\n",
        "df"
      ]
    },
    {
      "cell_type": "code",
      "execution_count": 25,
      "metadata": {
        "id": "NjjTqLnIKTrp"
      },
      "outputs": [],
      "source": [
        "df.to_csv('customer_orders.csv', sep=';', index=False)"
      ]
    }
  ],
  "metadata": {
    "colab": {
      "collapsed_sections": [],
      "name": "PAD5.ipynb",
      "provenance": []
    },
    "interpreter": {
      "hash": "33d82247624afc0262d1a157077d4fcc9322cf4e7b12f0d5aa5a7412cea8313a"
    },
    "kernelspec": {
      "display_name": "Python 3.9.7 ('base')",
      "language": "python",
      "name": "python3"
    },
    "language_info": {
      "codemirror_mode": {
        "name": "ipython",
        "version": 3
      },
      "file_extension": ".py",
      "mimetype": "text/x-python",
      "name": "python",
      "nbconvert_exporter": "python",
      "pygments_lexer": "ipython3",
      "version": "3.9.7"
    }
  },
  "nbformat": 4,
  "nbformat_minor": 0
}
