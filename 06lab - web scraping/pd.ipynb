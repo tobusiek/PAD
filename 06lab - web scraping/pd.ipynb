{
 "cells": [
  {
   "cell_type": "code",
   "execution_count": 132,
   "metadata": {},
   "outputs": [],
   "source": [
    "from selenium import webdriver\n",
    "from selenium.webdriver.common.by import By\n",
    "from time import sleep\n",
    "\n",
    "driver = webdriver.Chrome()\n",
    "driver.get('https://www.pap.pl/')"
   ]
  },
  {
   "cell_type": "markdown",
   "metadata": {},
   "source": [
    "a) Akceptacja plikow cookies"
   ]
  },
  {
   "cell_type": "code",
   "execution_count": 133,
   "metadata": {},
   "outputs": [],
   "source": [
    "cookies = driver.find_element(by=By.XPATH, value='//*[@id=\"cookie\"]/div/div/div/div/div/div[1]')\n",
    "cookies.click()"
   ]
  },
  {
   "cell_type": "markdown",
   "metadata": {},
   "source": [
    "b) Zwiekszenie okna przegladarki na caly ekran"
   ]
  },
  {
   "cell_type": "code",
   "execution_count": 134,
   "metadata": {},
   "outputs": [],
   "source": [
    "driver.maximize_window()\n",
    "sleep(1)"
   ]
  },
  {
   "cell_type": "markdown",
   "metadata": {},
   "source": [
    "c) Zmiana jezyka strony na angielski"
   ]
  },
  {
   "cell_type": "code",
   "execution_count": 135,
   "metadata": {},
   "outputs": [],
   "source": [
    "driver.find_element(by=By.XPATH, value='//*[@id=\"navbar\"]/ul[2]/li[3]/a').click()"
   ]
  },
  {
   "cell_type": "markdown",
   "metadata": {},
   "source": [
    "d) Wejscie w sekcje Business"
   ]
  },
  {
   "cell_type": "code",
   "execution_count": 136,
   "metadata": {},
   "outputs": [],
   "source": [
    "driver.find_element(by=By.XPATH, value='//*[@id=\"block-mainnavigationen\"]/ul/li[3]/a').click()"
   ]
  },
  {
   "cell_type": "markdown",
   "metadata": {},
   "source": [
    "e) Sciagniecie wszystkich tytulow do listy titles z sekcji Business<br/>\n",
    "f) Sciagniecie wszystkich zdjec z sekcji Business na dysk lokalny"
   ]
  },
  {
   "cell_type": "code",
   "execution_count": 137,
   "metadata": {},
   "outputs": [],
   "source": [
    "\n",
    "import requests\n",
    "\n",
    "def save_img(img_url, file_name):\n",
    "    img = requests.get(img_url)\n",
    "    sleep(2)\n",
    "    with open(file_name, 'xb+') as f:\n",
    "        f.write(img.content)"
   ]
  },
  {
   "cell_type": "code",
   "execution_count": 138,
   "metadata": {},
   "outputs": [],
   "source": [
    "from os import curdir\n",
    "\n",
    "\n",
    "titles = list()\n",
    "image_urls = list()\n",
    "\n",
    "m2 = driver.find_element(by=By.XPATH, value='/html/body/div/div[2]/section[2]/div/div[2]/div[1]/div[2]/div/div/div/div[1]/div[2]/h1').text\n",
    "titles.append(m2)\n",
    "\n",
    "m2_img = driver.find_element(by=By.XPATH, value='/html/body/div/div[2]/section[2]/div/div[2]/div[1]/div[2]/div/div/div/div[1]/div[1]/a/img')\n",
    "image_urls.append(m2_img.get_attribute('src'))\n",
    "\n",
    "m5 = driver.find_elements(by=By.XPATH, value='/html/body/div/div[2]/section[2]/div/div[2]/div[1]/div[2]/div/div/div/div[2]/div/ul/li')\n",
    "for art in m5:\n",
    "    if art.get_attribute('class') == 'news col-sm-6':\n",
    "        title_text = art.find_element(by=By.TAG_NAME, value='h2').text\n",
    "        titles.append(title_text)\n",
    "\n",
    "        image_url = art.find_element(by=By.TAG_NAME, value='img').get_attribute('src')\n",
    "        image_urls.append(image_url)\n",
    "\n",
    "\n",
    "arts = zip(titles, image_urls)\n",
    "# print(dict(arts))\n",
    "\n",
    "%rm -rf ./imgs\n",
    "%mkdir ./imgs\n",
    "\n",
    "for title, img_url in arts:\n",
    "    title = title.replace(' ', '_')\n",
    "    save_img(img_url, f'{curdir}/imgs/{title}.png')"
   ]
  },
  {
   "cell_type": "markdown",
   "metadata": {},
   "source": [
    "g) Zjechanie na dol strony"
   ]
  },
  {
   "cell_type": "code",
   "execution_count": 139,
   "metadata": {},
   "outputs": [],
   "source": [
    "driver.execute_script('window.scrollBy(0, 10000)')"
   ]
  },
  {
   "cell_type": "markdown",
   "metadata": {},
   "source": [
    "h) Przejscie na ostatnia strone i zwrocenie printem jej numeru"
   ]
  },
  {
   "cell_type": "code",
   "execution_count": 140,
   "metadata": {},
   "outputs": [
    {
     "name": "stdout",
     "output_type": "stream",
     "text": [
      "73\n"
     ]
    }
   ],
   "source": [
    "driver.find_element(by=By.XPATH, value='/html/body/div/div[2]/section[2]/div/div[2]/div[1]/div[2]/div/nav/ul/li[5]/a').click()\n",
    "sleep(2)\n",
    "\n",
    "last_page_number = driver.find_element(by=By.XPATH, value='/html/body/div/div[2]/section[2]/div/div[2]/div[1]/div[2]/div/nav/ul/li[5]/a').text\n",
    "print(last_page_number)\n",
    "\n",
    "driver.quit()"
   ]
  }
 ],
 "metadata": {
  "interpreter": {
   "hash": "33d82247624afc0262d1a157077d4fcc9322cf4e7b12f0d5aa5a7412cea8313a"
  },
  "kernelspec": {
   "display_name": "Python 3.9.7 ('base')",
   "language": "python",
   "name": "python3"
  },
  "language_info": {
   "codemirror_mode": {
    "name": "ipython",
    "version": 3
   },
   "file_extension": ".py",
   "mimetype": "text/x-python",
   "name": "python",
   "nbconvert_exporter": "python",
   "pygments_lexer": "ipython3",
   "version": "3.9.7"
  },
  "orig_nbformat": 4
 },
 "nbformat": 4,
 "nbformat_minor": 2
}
